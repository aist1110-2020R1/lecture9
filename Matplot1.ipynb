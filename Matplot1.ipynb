{
 "cells": [
  {
   "cell_type": "code",
   "execution_count": null,
   "metadata": {},
   "outputs": [],
   "source": [
    "%matplotlib notebook"
   ]
  },
  {
   "cell_type": "code",
   "execution_count": null,
   "metadata": {},
   "outputs": [],
   "source": [
    "%matplotlib inline"
   ]
  },
  {
   "cell_type": "code",
   "execution_count": null,
   "metadata": {},
   "outputs": [],
   "source": [
    "import numpy as np\n",
    "import matplotlib.pyplot as plt"
   ]
  },
  {
   "cell_type": "code",
   "execution_count": null,
   "metadata": {
    "scrolled": false
   },
   "outputs": [],
   "source": [
    "plt.plot([1, 2, 3, 4, 5])\n",
    "plt.xlabel('x values')\n",
    "plt.ylabel('y values')\n",
    "plt.title('Your First Matplot')\n",
    "plt.show()"
   ]
  },
  {
   "cell_type": "code",
   "execution_count": null,
   "metadata": {},
   "outputs": [],
   "source": [
    "x = [1, 2, 3, 4, 5]\n",
    "rng = np.random.default_rng()\n",
    "y = rng.integers(1, 10, 5, endpoint=True)\n",
    "plt.plot(x, y)\n",
    "y = rng.integers(1, 10, 5, endpoint=True)\n",
    "plt.plot(y)           # plot y using x as index array 0..N-1"
   ]
  },
  {
   "cell_type": "code",
   "execution_count": null,
   "metadata": {},
   "outputs": [],
   "source": [
    "y = rng.integers(1, 10, 5, endpoint=True)\n",
    "plt.plot(x, y, 'bo')  # plot x and y using blue circle markers\n",
    "\n",
    "y = rng.integers(1, 10, 5, endpoint=True)\n",
    "plt.plot(y, 'r+')     # ditto, but with red plusses"
   ]
  },
  {
   "cell_type": "code",
   "execution_count": null,
   "metadata": {},
   "outputs": [],
   "source": [
    "y = rng.integers(1, 10, 5, endpoint=True)\n",
    "plt.plot(x, y, 'go--', linewidth=2, markersize=12)"
   ]
  },
  {
   "cell_type": "code",
   "execution_count": null,
   "metadata": {},
   "outputs": [],
   "source": [
    "y = rng.integers(1, 10, 5, endpoint=True)\n",
    "plt.plot(x, y, color='green', marker='o', linestyle='dashed', linewidth=2, markersize=12)"
   ]
  },
  {
   "cell_type": "code",
   "execution_count": null,
   "metadata": {},
   "outputs": [],
   "source": [
    "# evenly sampled time at .2 intervals\n",
    "t = np.arange(0., 5., 0.2)\n",
    "\n",
    "# red dashes, blue squares and green triangles\n",
    "plt.plot(t, t, 'r--', t, t**2, 'bs', t, t**3, 'g^')\n",
    "plt.axis([0, 6, 0, 150]) # x and y range of axis"
   ]
  },
  {
   "cell_type": "code",
   "execution_count": null,
   "metadata": {},
   "outputs": [],
   "source": [
    "t = np.arange(0, 5, .2)\n",
    "\n",
    "f = plt.figure()\n",
    "axes = f.add_subplot(111)\n",
    "axes.plot(t, t, 'r--', t, t**2, 'bs', t, t**3, 'g^')\n",
    "axes.axis([0, 6, 0, 150])"
   ]
  },
  {
   "cell_type": "code",
   "execution_count": null,
   "metadata": {},
   "outputs": [],
   "source": [
    "def f(t):\n",
    "    return np.exp(-t) * np.cos(2 * np.pi * t)\n",
    "\n",
    "t1 = np.arange(0.0, 5.0, 0.1)\n",
    "t2 = np.arange(0.0, 5.0, 0.02)\n",
    "\n",
    "plt.figure(1) # called implicitly and can use for multiple figures\n",
    "\n",
    "plt.subplot(211) # 2 rows, 1 column, 1st plot\n",
    "plt.plot(t1, f(t1), 'bo', t2, f(t2), 'k')\n",
    "plt.subplot(212) # 2 rows, 1 column, 2nd plot\n",
    "plt.plot(t2, np.cos(2*np.pi*t2), 'r--')"
   ]
  },
  {
   "cell_type": "code",
   "execution_count": null,
   "metadata": {},
   "outputs": [],
   "source": [
    "def f(t):\n",
    "    return np.exp(-t) * np.cos(2 * np.pi * t)\n",
    "\n",
    "t1 = np.arange(0.0, 5.0, 0.1)\n",
    "t2 = np.arange(0.0, 5.0, 0.02)\n",
    "\n",
    "#plt.figure(1) # called implicitly and can use for multiple figures\n",
    "\n",
    "plt.subplot(2, 2, 1) # 2 rows, 2 cols, 1st plot\n",
    "plt.plot(t1, f(t1), 'bo', t2, f(t2), 'm', markersize=3)\n",
    "\n",
    "plt.subplot(2, 2, 2) # 2 rows, 2 cols, 2nd plot\n",
    "plt.plot(t2, np.cos(np.pi*t2), 'r-')\n",
    "\n",
    "plt.subplot(2, 2, 3) # 2 rows, 2 cols, 3rd plot\n",
    "plt.plot(t2, np.cos(2*np.pi*t2), 'g--')\n",
    "\n",
    "plt.subplot(2, 2, 4) # 2 rows, 2 cols, 4th plot\n",
    "plt.plot(t2, np.cos(3*np.pi*t2), 'b:')"
   ]
  },
  {
   "cell_type": "code",
   "execution_count": null,
   "metadata": {},
   "outputs": [],
   "source": [
    "def f(t):\n",
    "    return np.exp(-t) * np.cos(2 * np.pi * t)\n",
    "\n",
    "t1 = np.arange(0.0, 5.0, 0.1)\n",
    "t2 = np.arange(0.0, 5.0, 0.02)\n",
    "\n",
    "plt.figure(1)\n",
    "\n",
    "plt.subplot(2, 1, 1) # 2 rows, 1 column, 1st plot\n",
    "plt.plot(t1, f(t1), 'bo', t2, f(t2), 'm', markersize=3)\n",
    "\n",
    "plt.subplot(2, 1, 2) # 2 rows, 1 column, 2nd plot\n",
    "plt.plot(t2, np.cos(np.pi*t2), 'r-')\n",
    "\n",
    "plt.figure(2, figsize=(8, 2))\n",
    "\n",
    "plt.subplot(1, 2, 1) # 1 row, 2 columns, 1st plot\n",
    "plt.plot(t2, np.cos(2*np.pi*t2), 'g--')\n",
    "\n",
    "plt.subplot(1, 2, 2) # 1 row, 2 columns, 2nd plot\n",
    "plt.plot(t2, np.cos(3*np.pi*t2), 'b:')"
   ]
  },
  {
   "cell_type": "code",
   "execution_count": null,
   "metadata": {},
   "outputs": [],
   "source": [
    "np.random.seed(19680801)\n",
    "data = np.random.randn(2, 100)\n",
    "fig, axs = plt.subplots(2, 2, figsize=(6, 6))\n",
    "axs[0, 0].hist(data[0])\n",
    "axs[1, 0].scatter(data[0], data[1])\n",
    "axs[0, 1].plot(data[0], data[1])\n",
    "axs[1, 1].hist2d(data[0], data[1])\n",
    "plt.show()"
   ]
  },
  {
   "cell_type": "code",
   "execution_count": null,
   "metadata": {},
   "outputs": [],
   "source": [
    "# Sigmoid function:\n",
    "def sigmoid(x):\n",
    "    return 1 / (1 + np.exp(-x))\n",
    "\n",
    "x = np.linspace(-10, 10, 100)\n",
    "y = sigmoid(x)\n",
    "plt.plot(x, y)\n",
    "plt.xlabel(\"x\", loc='right')\n",
    "plt.ylabel(\"y\", loc='top', rotation=0)\n",
    "plt.title(\"Sigmoid Function\")"
   ]
  },
  {
   "cell_type": "code",
   "execution_count": null,
   "metadata": {},
   "outputs": [],
   "source": [
    "# Sigmoid function:\n",
    "def sigmoid(x):\n",
    "    return 1 / (1 + np.exp(-x))\n",
    "\n",
    "# Derivative of sigmoid function:\n",
    "def sigmoid_der(x):\n",
    "    return sigmoid(x) * (1 - sigmoid(x))\n",
    "\n",
    "x = np.linspace(-10, 10, 100)\n",
    "y1 = sigmoid(x)\n",
    "y2 = sigmoid_der(x)\n",
    "plt.plot(x, y1, label='sigmoid')\n",
    "plt.plot(x, y2, label='sigmoid derivative')\n",
    "plt.xlabel(\"x\", loc='right')\n",
    "plt.ylabel(\"y\", loc='top', rotation=0)\n",
    "plt.title(\"Sigmoid vs. Sigmoid's Derivative\")\n",
    "# show legend\n",
    "plt.legend(loc=\"upper left\")"
   ]
  },
  {
   "cell_type": "code",
   "execution_count": null,
   "metadata": {},
   "outputs": [],
   "source": [
    "# Sigmoid function:\n",
    "def sigmoid(x):\n",
    "    return 1 / (1 + np.exp(-x))\n",
    "\n",
    "x = np.arange(-10., 10., 0.2)\n",
    "y = sigmoid(x)\n",
    "\n",
    "fig = plt.figure()\n",
    "ax = fig.add_subplot(1, 1, 1)\n",
    "\n",
    "# Move left y-axis and bottom x-axis to centre, \n",
    "# passing through (0,0)\n",
    "ax.spines['left'].set_position('center')\n",
    "ax.spines['bottom'].set_position('center')\n",
    "\n",
    "# Hide upper and right axes\n",
    "ax.spines['right'].set_color('none')\n",
    "ax.spines['top'].set_color('none')\n",
    "\n",
    "# Reduce no. of x-axis ticks to 5 only\n",
    "ax.xaxis.set_major_locator(plt.MaxNLocator(5))\n",
    "\n",
    "plt.plot(x, y)"
   ]
  },
  {
   "cell_type": "code",
   "execution_count": null,
   "metadata": {},
   "outputs": [],
   "source": [
    "# Sigmoid function:\n",
    "def sigmoid(x):\n",
    "    return 1 / (1 + np.exp(-x))\n",
    "\n",
    "x = np.arange(-10., 10., 0.2)\n",
    "y = sigmoid(x)\n",
    "\n",
    "fig = plt.figure()\n",
    "ax = fig.add_subplot(1, 1, 1)\n",
    "\n",
    "# Move left y-axis and bottom x-axis to centre, passing through (0,0)\n",
    "ax.spines['left'].set_position('center')\n",
    "ax.spines['bottom'].set_position('center')\n",
    "\n",
    "# Hide upper and right axes\n",
    "#ax.spines['right'].set_color('none')\n",
    "#ax.spines['top'].set_color('none')\n",
    "\n",
    "# Reduce no. of x-axis ticks to 5 only\n",
    "ax.xaxis.set_major_locator(plt.MaxNLocator(5))\n",
    "\n",
    "# Show ticks in the right and top axes only\n",
    "ax.xaxis.set_ticks_position('top')\n",
    "ax.yaxis.set_ticks_position('right')\n",
    "ax.grid()  # show grid lines\n",
    "\n",
    "plt.plot(x, y)"
   ]
  },
  {
   "cell_type": "code",
   "execution_count": null,
   "metadata": {},
   "outputs": [],
   "source": [
    "from matplotlib.ticker import FuncFormatter, MultipleLocator\n",
    "\n",
    "#plt.rcParams.update({'font.size': 14})\n",
    "\n",
    "# 1000 linearly spaced numbers\n",
    "x = np.linspace(-np.pi*2-0.3, np.pi*2+0.3, 1000)\n",
    "\n",
    "# the function, which is y = sin(x) here\n",
    "y = np.sin(x)\n",
    "\n",
    "# setting the axes at the centre\n",
    "fig = plt.figure()\n",
    "ax = fig.add_subplot(1, 1, 1)\n",
    "ax.spines['left'].set_position('center')\n",
    "ax.spines['bottom'].set_position('center')\n",
    "\n",
    "ax.spines['right'].set_color('none')\n",
    "ax.spines['top'].set_color('none')\n",
    "\n",
    "#ax.xaxis.set_ticks_position('bottom')\n",
    "#ax.yaxis.set_ticks_position('left')\n",
    "\n",
    "ax.yaxis.set_major_locator(plt.MaxNLocator(1))\n",
    "ax.xaxis.get_major_ticks()[3].label1.set_visible(False)\n",
    "\n",
    "ax.xaxis.set_major_formatter(FuncFormatter(\n",
    "    lambda val, pos: '{:.0g}$\\pi$'.format(val/np.pi) if val !=0 else '0'\n",
    "))\n",
    "ax.xaxis.set_major_locator(MultipleLocator(base=np.pi))\n",
    "ax.set_xlabel('x', loc='right')\n",
    "ax.set_title('y')\n",
    "\n",
    "# plot the function\n",
    "plt.plot(x,y, 'b-')\n",
    "\n",
    "# show the plot\n",
    "plt.show()"
   ]
  },
  {
   "cell_type": "code",
   "execution_count": null,
   "metadata": {},
   "outputs": [],
   "source": [
    "fig = plt.figure()\n",
    "ax = fig.add_subplot(1, 1, 1)\n",
    "ax.plot(np.random.rand(50))\n",
    "\n",
    "ax.yaxis.set_major_locator(plt.NullLocator())\n",
    "ax.xaxis.set_major_formatter(plt.NullFormatter())"
   ]
  },
  {
   "cell_type": "code",
   "execution_count": null,
   "metadata": {},
   "outputs": [],
   "source": [
    "mu, sigma = 0, 0.1   # mean and standard deviation\n",
    "s = np.random.default_rng().normal(mu, sigma, 1000)\n",
    "abs(mu - np.mean(s)) # verify the mean\n",
    "abs(sigma - np.std(s, ddof=1)) # verify the variance\n",
    "\n",
    "import matplotlib.pyplot as plt\n",
    "n, bins, patches = plt.hist(s, 30, density=True)\n",
    "plt.plot(bins, 1/(sigma * np.sqrt(2 * np.pi)) * \n",
    "                   np.exp(-1/2 * ((bins - mu)/sigma)**2), \n",
    "             linewidth=2, color='r')\n",
    "plt.text(-0.25, 3.5, r'$\\mu=0,\\ \\sigma=0.1$')\n",
    "plt.show()"
   ]
  },
  {
   "cell_type": "code",
   "execution_count": null,
   "metadata": {},
   "outputs": [],
   "source": [
    "mu, sigma = 100, 15\n",
    "x = mu + sigma * np.random.randn(10000)\n",
    "\n",
    "# the histogram of the data\n",
    "n, bins, patches = plt.hist(x, 50, density=True, facecolor='g', alpha=0.5)\n",
    "\n",
    "plt.xlabel('IQ')\n",
    "plt.ylabel('Probability')\n",
    "plt.title('Histogram of IQ')\n",
    "plt.text(60, .025, r'$\\mu=100,\\ \\sigma=15$') # TeX equations\n",
    "plt.axis([40, 160, 0, 0.03])\n",
    "plt.grid(True)\n",
    "\n",
    "plt.show()"
   ]
  },
  {
   "cell_type": "code",
   "execution_count": null,
   "metadata": {},
   "outputs": [],
   "source": [
    "fig, ax = plt.subplots(5, 5, figsize=(5, 5))\n",
    "fig.subplots_adjust(hspace=0, wspace=0)\n",
    "\n",
    "# Get some face data from scikit-learn\n",
    "from sklearn.datasets import fetch_olivetti_faces\n",
    "faces = fetch_olivetti_faces().images\n",
    "#print(faces.shape)\n",
    "\n",
    "for i in range(5):\n",
    "    for j in range(5):\n",
    "        #print(10 * i + j)\n",
    "        ax[i, j].xaxis.set_major_locator(plt.NullLocator())\n",
    "        ax[i, j].yaxis.set_major_locator(plt.NullLocator())\n",
    "        ax[i, j].imshow(faces[10 * i + j], cmap=\"bone\")"
   ]
  },
  {
   "cell_type": "code",
   "execution_count": null,
   "metadata": {},
   "outputs": [],
   "source": [
    "from sklearn.datasets import fetch_lfw_people\n",
    "faces = fetch_lfw_people(min_faces_per_person=60)\n",
    "print(faces.target_names)\n",
    "print(faces.images.shape)\n",
    "\n",
    "fig, ax = plt.subplots(3, 5, figsize = (8, 6))\n",
    "for i, axi in enumerate(ax.flat):\n",
    "    axi.imshow(faces.images[i], cmap='bone')\n",
    "    axi.set(xticks=[], yticks=[],\n",
    "            xlabel=faces.target_names[faces.target[i]])"
   ]
  },
  {
   "cell_type": "code",
   "execution_count": null,
   "metadata": {},
   "outputs": [],
   "source": []
  }
 ],
 "metadata": {
  "kernelspec": {
   "display_name": "Python 3",
   "language": "python",
   "name": "python3"
  },
  "language_info": {
   "codemirror_mode": {
    "name": "ipython",
    "version": 3
   },
   "file_extension": ".py",
   "mimetype": "text/x-python",
   "name": "python",
   "nbconvert_exporter": "python",
   "pygments_lexer": "ipython3",
   "version": "3.8.5"
  }
 },
 "nbformat": 4,
 "nbformat_minor": 4
}
