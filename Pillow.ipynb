{
 "cells": [
  {
   "cell_type": "code",
   "execution_count": null,
   "metadata": {},
   "outputs": [],
   "source": [
    "import numpy as np"
   ]
  },
  {
   "cell_type": "code",
   "execution_count": null,
   "metadata": {},
   "outputs": [],
   "source": [
    "from IPython.display import display\n",
    "from PIL import Image\n",
    "\n",
    "# read an image\n",
    "image = Image.open(\"sample-images/lena.jpg\")\n",
    "\n",
    "# show the image\n",
    "display(image)"
   ]
  },
  {
   "cell_type": "code",
   "execution_count": null,
   "metadata": {},
   "outputs": [],
   "source": [
    "im = np.array(image)\n",
    "im"
   ]
  },
  {
   "cell_type": "code",
   "execution_count": null,
   "metadata": {},
   "outputs": [],
   "source": [
    "im.shape"
   ]
  },
  {
   "cell_type": "code",
   "execution_count": null,
   "metadata": {},
   "outputs": [],
   "source": [
    "g = image.convert('L')\n",
    "display(g)\n",
    "\n",
    "im_gray = np.array(g)\n",
    "print(im_gray.ndim)\n",
    "print(im_gray.shape)"
   ]
  },
  {
   "cell_type": "code",
   "execution_count": null,
   "metadata": {},
   "outputs": [],
   "source": [
    "im = np.array(Image.open('sample-images/lenna.jpg').resize((256, 256)))\n",
    "im_1_22 = 255.0 * (im / 255.0) ** (1 / 2.2)\n",
    "im_22   = 255.0 * (im / 255.0) ** 2.2\n",
    "im_gamma = np.concatenate((im_1_22, im, im_22), axis=1)\n",
    "pil_img = Image.fromarray(np.uint8(im_gamma))\n",
    "display(pil_img)"
   ]
  },
  {
   "cell_type": "code",
   "execution_count": null,
   "metadata": {},
   "outputs": [],
   "source": [
    "image = Image.open('sample-images/lenna.jpg').resize((256, 256))\n",
    "display(image)"
   ]
  },
  {
   "cell_type": "code",
   "execution_count": null,
   "metadata": {},
   "outputs": [],
   "source": [
    "im = np.array(image)\n",
    "im_rot90 = np.rot90(im)\n",
    "\n",
    "pil_img = Image.fromarray(np.uint8(im_rot90))\n",
    "display(pil_img)"
   ]
  },
  {
   "cell_type": "code",
   "execution_count": null,
   "metadata": {},
   "outputs": [],
   "source": [
    "im = np.array(image)\n",
    "im_fliplr = np.fliplr(im)\n",
    "\n",
    "pil_img = Image.fromarray(np.uint8(im_fliplr))\n",
    "display(pil_img)"
   ]
  },
  {
   "cell_type": "code",
   "execution_count": null,
   "metadata": {},
   "outputs": [],
   "source": []
  }
 ],
 "metadata": {
  "kernelspec": {
   "display_name": "Python 3",
   "language": "python",
   "name": "python3"
  },
  "language_info": {
   "codemirror_mode": {
    "name": "ipython",
    "version": 3
   },
   "file_extension": ".py",
   "mimetype": "text/x-python",
   "name": "python",
   "nbconvert_exporter": "python",
   "pygments_lexer": "ipython3",
   "version": "3.9.0"
  }
 },
 "nbformat": 4,
 "nbformat_minor": 4
}
